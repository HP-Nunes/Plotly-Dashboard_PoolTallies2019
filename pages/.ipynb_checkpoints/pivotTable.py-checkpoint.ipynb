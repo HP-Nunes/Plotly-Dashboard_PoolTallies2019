{
 "cells": [
  {
   "cell_type": "code",
   "execution_count": null,
   "metadata": {},
   "outputs": [],
   "source": [
    "import dash_core_components as dcc\n",
    "import dash_html_components as html\n",
    "import plotly.graph_objs as go\n",
    "\n",
    "import dash_pivottable\n",
    "import dash\n",
    "from data import data\n",
    "from dash.dependencies import Input, Output"
   ]
  },
  {
   "cell_type": "code",
   "execution_count": null,
   "metadata": {},
   "outputs": [],
   "source": [
    "from utils import Header, make_dash_table\n",
    "import pandas as pd\n",
    "import pathlib"
   ]
  },
  {
   "cell_type": "code",
   "execution_count": null,
   "metadata": {},
   "outputs": [],
   "source": [
    "app.scripts.config.serve_locally = True\n",
    "app.css.config.serve_locally = True"
   ]
  },
  {
   "cell_type": "code",
   "execution_count": null,
   "metadata": {},
   "outputs": [],
   "source": [
    "# get relative data folder\n",
    "PATH = pathlib.Path(__file__).parent\n",
    "DATA_PATH = PATH.joinpath(\"../data\").resolve()"
   ]
  },
  {
   "cell_type": "code",
   "execution_count": null,
   "metadata": {},
   "outputs": [],
   "source": [
    "df_dayCount = pd.read_csv(DATA_PATH.joinpath(\"df_dayCount.csv\"))"
   ]
  },
  {
   "cell_type": "code",
   "execution_count": null,
   "metadata": {},
   "outputs": [],
   "source": [
    "def create_layout(app):\n",
    "    return html.Div(\n",
    "        [\n",
    "        app.title = 'My Dash example'\n",
    "        app.layout = html.Div([\n",
    "        dash_pivottable.PivotTable(\n",
    "        id='table',\n",
    "        data=data,\n",
    "        cols=['Day of Week'],\n",
    "        colOrder=\"key_a_to_z\",\n",
    "        rows=['Party Size'],\n",
    "        rowOrder=\"key_a_to_z\",\n",
    "        rendererName=\"Grouped Column Chart\",\n",
    "        aggregatorName=\"Average\",\n",
    "        vals=[\"Total Bill\"],\n",
    "        valueFilter={'Day of Week': {'Thursday': False}}\n",
    "        ),\n",
    "        dcc.Markdown(\n",
    "            id='output'\n",
    "        )\n",
    "            ])"
   ]
  },
  {
   "cell_type": "code",
   "execution_count": null,
   "metadata": {},
   "outputs": [],
   "source": [
    "@app.callback(Output('output', 'children'),\n",
    "              [Input('table', 'cols'),\n",
    "               Input('table', 'rows'),\n",
    "               Input('table', 'rowOrder'),\n",
    "               Input('table', 'colOrder'),\n",
    "               Input('table', 'aggregatorName'),\n",
    "               Input('table', 'rendererName')])\n",
    "def display_props(cols, rows, row_order, col_order, aggregator, renderer):\n",
    "    return \"\"\"\n",
    "        Columns: {}\n",
    "        \n",
    "        rows: {}\n",
    "        \n",
    "        rowOrder: {}\n",
    "        \n",
    "        colOrder: {}\n",
    "        \n",
    "        aggregatorName: {}\n",
    "        \n",
    "        rendererName: {}\n",
    "    \"\"\".format(str(cols), str(rows), row_order, col_order, aggregator, renderer)"
   ]
  },
  {
   "cell_type": "code",
   "execution_count": null,
   "metadata": {},
   "outputs": [],
   "source": [
    "if __name__ == '__main__':\n",
    "    app.run_server(debug=True)"
   ]
  },
  {
   "cell_type": "code",
   "execution_count": null,
   "metadata": {},
   "outputs": [],
   "source": []
  }
 ],
 "metadata": {
  "kernelspec": {
   "display_name": "Python 3",
   "language": "python",
   "name": "python3"
  },
  "language_info": {
   "codemirror_mode": {
    "name": "ipython",
    "version": 3
   },
   "file_extension": ".py",
   "mimetype": "text/x-python",
   "name": "python",
   "nbconvert_exporter": "python",
   "pygments_lexer": "ipython3",
   "version": "3.6.9"
  }
 },
 "nbformat": 4,
 "nbformat_minor": 2
}
